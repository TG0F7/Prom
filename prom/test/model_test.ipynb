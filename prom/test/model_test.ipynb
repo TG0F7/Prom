{
 "cells": [
  {
   "cell_type": "code",
   "execution_count": 1,
   "id": "b37b6429",
   "metadata": {},
   "outputs": [],
   "source": [
    "import numpy as np\n",
    "import joblib as jl\n",
    "import pandas as pd"
   ]
  },
  {
   "cell_type": "code",
   "execution_count": 2,
   "id": "3b28b5a5",
   "metadata": {
    "scrolled": true
   },
   "outputs": [],
   "source": [
    "model_1 = jl.load('model_1.pkl')\n",
    "model_2 = jl.load('model_2.pkl')"
   ]
  },
  {
   "cell_type": "code",
   "execution_count": 3,
   "id": "fc5c7685",
   "metadata": {},
   "outputs": [],
   "source": [
    "def data_load(path):\n",
    "    data=pd.read_csv(path,encoding='gbk',engine='python',header=None)\n",
    "    labels = data.iloc[:,0].values\n",
    "    features = data.iloc[:,1:].values\n",
    "    indices = np.arange(len(labels))\n",
    "    np.random.seed(42)\n",
    "    np.random.shuffle(indices)\n",
    "    labels = labels[indices]\n",
    "    features = features[indices]\n",
    "    return features,labels"
   ]
  },
  {
   "cell_type": "code",
   "execution_count": 4,
   "id": "7e4e837d",
   "metadata": {},
   "outputs": [],
   "source": [
    "def sn_sp_acc_mcc(true_label,predict_label,pos_label=1):\n",
    "    \n",
    "    pos_num = np.sum(true_label==pos_label)\n",
    "    print('pos_num=',pos_num)\n",
    "    neg_num = true_label.shape[0]-pos_num\n",
    "    print('neg_num=',neg_num)\n",
    "    tp =np.sum((true_label==pos_label) & (predict_label==pos_label))\n",
    "    print('tp=',tp)\n",
    "    tn = np.sum(true_label==predict_label)-tp\n",
    "    print('tn=',tn)\n",
    "    sn = tp/pos_num\n",
    "    sp = tn/neg_num\n",
    "    acc = (tp+tn)/(pos_num+neg_num)\n",
    "    fn = pos_num - tp\n",
    "    fp = neg_num - tn\n",
    "    print('fn=',fn)\n",
    "    print('fp=',fp)\n",
    "    \n",
    "    tp = np.array(tp,dtype=np.float64)\n",
    "    tn = np.array(tn,dtype=np.float64)\n",
    "    fp = np.array(fp,dtype=np.float64)\n",
    "    fn = np.array(fn,dtype=np.float64)\n",
    "    mcc = (tp*tn-fp*fn)/(np.sqrt((tp+fn)*(tp+fp)*(tn+fp)*(tn+fn)))\n",
    "    return sn,sp,acc,mcc"
   ]
  },
  {
   "cell_type": "code",
   "execution_count": 5,
   "id": "6240740d",
   "metadata": {},
   "outputs": [],
   "source": [
    "h_data_test,h_label_test = data_load(r\"D:\\notebook\\pro_re\\121\\test\\person\\PSTNPss.csv\")"
   ]
  },
  {
   "cell_type": "code",
   "execution_count": 6,
   "id": "0328da9d",
   "metadata": {},
   "outputs": [
    {
     "name": "stdout",
     "output_type": "stream",
     "text": [
      "pos_num= 468\n",
      "neg_num= 468\n",
      "tp= 422\n",
      "tn= 389\n",
      "fn= 46\n",
      "fp= 79\n"
     ]
    },
    {
     "data": {
      "text/plain": [
       "(0.9017094017094017,\n",
       " 0.8311965811965812,\n",
       " 0.8664529914529915,\n",
       " 0.7347348310681657)"
      ]
     },
     "execution_count": 6,
     "metadata": {},
     "output_type": "execute_result"
    }
   ],
   "source": [
    "result = model_1.predict(h_data_test)\n",
    "sn_sp_acc_mcc(h_label_test,result,pos_label=1)"
   ]
  },
  {
   "cell_type": "code",
   "execution_count": 7,
   "id": "1f214685",
   "metadata": {},
   "outputs": [],
   "source": [
    "m_data_test, m_label_test = data_load(r\"D:\\notebook\\pro_re\\121\\test\\mouse\\PSTNPss.csv\")"
   ]
  },
  {
   "cell_type": "code",
   "execution_count": 8,
   "id": "6f16c949",
   "metadata": {},
   "outputs": [
    {
     "name": "stdout",
     "output_type": "stream",
     "text": [
      "pos_num= 616\n",
      "neg_num= 615\n",
      "tp= 535\n",
      "tn= 515\n",
      "fn= 81\n",
      "fp= 100\n"
     ]
    },
    {
     "data": {
      "text/plain": [
       "(0.8685064935064936,\n",
       " 0.8373983739837398,\n",
       " 0.8529650690495532,\n",
       " 0.7062591672175326)"
      ]
     },
     "execution_count": 8,
     "metadata": {},
     "output_type": "execute_result"
    }
   ],
   "source": [
    "result = model_2.predict(m_data_test)\n",
    "sn_sp_acc_mcc(m_label_test,result,pos_label=1)"
   ]
  },
  {
   "cell_type": "code",
   "execution_count": null,
   "id": "3a72267a",
   "metadata": {},
   "outputs": [],
   "source": []
  }
 ],
 "metadata": {
  "kernelspec": {
   "display_name": "Python [conda env:Pytorch] *",
   "language": "python",
   "name": "conda-env-Pytorch-py"
  },
  "language_info": {
   "codemirror_mode": {
    "name": "ipython",
    "version": 3
   },
   "file_extension": ".py",
   "mimetype": "text/x-python",
   "name": "python",
   "nbconvert_exporter": "python",
   "pygments_lexer": "ipython3",
   "version": "3.7.0"
  }
 },
 "nbformat": 4,
 "nbformat_minor": 5
}
